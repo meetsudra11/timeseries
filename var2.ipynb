{
 "cells": [
  {
   "cell_type": "code",
   "execution_count": 23,
   "metadata": {},
   "outputs": [],
   "source": [
    "import pandas as pd\n",
    "import numpy as np\n",
    "import matplotlib.pyplot as plt\n",
    "from statsmodels.tsa.api import VAR\n",
    "from statsmodels.stats.diagnostic import acorr_ljungbox\n",
    "\n",
    "from statsmodels.tsa.stattools import adfuller"
   ]
  },
  {
   "cell_type": "code",
   "execution_count": null,
   "metadata": {},
   "outputs": [],
   "source": [
    "# Load dataset (example: macroeconomic data)\n",
    "url = \"https://raw.githubusercontent.com/selva86/datasets/master/Raotbl6.csv\"\n",
    "data = pd.read_csv(url, index_col='date')"
   ]
  },
  {
   "cell_type": "code",
   "execution_count": 2,
   "metadata": {},
   "outputs": [
    {
     "data": {
      "text/html": [
       "<div>\n",
       "<style scoped>\n",
       "    .dataframe tbody tr th:only-of-type {\n",
       "        vertical-align: middle;\n",
       "    }\n",
       "\n",
       "    .dataframe tbody tr th {\n",
       "        vertical-align: top;\n",
       "    }\n",
       "\n",
       "    .dataframe thead th {\n",
       "        text-align: right;\n",
       "    }\n",
       "</style>\n",
       "<table border=\"1\" class=\"dataframe\">\n",
       "  <thead>\n",
       "    <tr style=\"text-align: right;\">\n",
       "      <th></th>\n",
       "      <th>rgnp</th>\n",
       "      <th>pgnp</th>\n",
       "      <th>ulc</th>\n",
       "      <th>gdfco</th>\n",
       "      <th>gdf</th>\n",
       "      <th>gdfim</th>\n",
       "      <th>gdfcf</th>\n",
       "      <th>gdfce</th>\n",
       "    </tr>\n",
       "    <tr>\n",
       "      <th>date</th>\n",
       "      <th></th>\n",
       "      <th></th>\n",
       "      <th></th>\n",
       "      <th></th>\n",
       "      <th></th>\n",
       "      <th></th>\n",
       "      <th></th>\n",
       "      <th></th>\n",
       "    </tr>\n",
       "  </thead>\n",
       "  <tbody>\n",
       "    <tr>\n",
       "      <th>1959-01-01</th>\n",
       "      <td>1606.4</td>\n",
       "      <td>1608.3</td>\n",
       "      <td>47.5</td>\n",
       "      <td>36.9</td>\n",
       "      <td>37.4</td>\n",
       "      <td>26.9</td>\n",
       "      <td>32.3</td>\n",
       "      <td>23.1</td>\n",
       "    </tr>\n",
       "    <tr>\n",
       "      <th>1959-04-01</th>\n",
       "      <td>1637.0</td>\n",
       "      <td>1622.2</td>\n",
       "      <td>47.5</td>\n",
       "      <td>37.4</td>\n",
       "      <td>37.5</td>\n",
       "      <td>27.0</td>\n",
       "      <td>32.2</td>\n",
       "      <td>23.4</td>\n",
       "    </tr>\n",
       "    <tr>\n",
       "      <th>1959-07-01</th>\n",
       "      <td>1629.5</td>\n",
       "      <td>1636.2</td>\n",
       "      <td>48.7</td>\n",
       "      <td>37.6</td>\n",
       "      <td>37.6</td>\n",
       "      <td>27.1</td>\n",
       "      <td>32.4</td>\n",
       "      <td>23.4</td>\n",
       "    </tr>\n",
       "    <tr>\n",
       "      <th>1959-10-01</th>\n",
       "      <td>1643.4</td>\n",
       "      <td>1650.3</td>\n",
       "      <td>48.8</td>\n",
       "      <td>37.7</td>\n",
       "      <td>37.8</td>\n",
       "      <td>27.1</td>\n",
       "      <td>32.5</td>\n",
       "      <td>23.8</td>\n",
       "    </tr>\n",
       "    <tr>\n",
       "      <th>1960-01-01</th>\n",
       "      <td>1671.6</td>\n",
       "      <td>1664.6</td>\n",
       "      <td>49.1</td>\n",
       "      <td>37.8</td>\n",
       "      <td>37.8</td>\n",
       "      <td>27.2</td>\n",
       "      <td>32.4</td>\n",
       "      <td>23.8</td>\n",
       "    </tr>\n",
       "  </tbody>\n",
       "</table>\n",
       "</div>"
      ],
      "text/plain": [
       "              rgnp    pgnp   ulc  gdfco   gdf  gdfim  gdfcf  gdfce\n",
       "date                                                              \n",
       "1959-01-01  1606.4  1608.3  47.5   36.9  37.4   26.9   32.3   23.1\n",
       "1959-04-01  1637.0  1622.2  47.5   37.4  37.5   27.0   32.2   23.4\n",
       "1959-07-01  1629.5  1636.2  48.7   37.6  37.6   27.1   32.4   23.4\n",
       "1959-10-01  1643.4  1650.3  48.8   37.7  37.8   27.1   32.5   23.8\n",
       "1960-01-01  1671.6  1664.6  49.1   37.8  37.8   27.2   32.4   23.8"
      ]
     },
     "execution_count": 2,
     "metadata": {},
     "output_type": "execute_result"
    }
   ],
   "source": [
    "data.head()"
   ]
  },
  {
   "cell_type": "code",
   "execution_count": 3,
   "metadata": {},
   "outputs": [],
   "source": [
    "# time series dataset with macroeconomic variables.\n",
    "# date: Time period (quarterly data from 1959).\n",
    "# rgnp: Real Gross National Product.\n",
    "# pgnp: Predicted Gross National Product.\n",
    "# ulc: Unit Labor Cost.\n",
    "# gdfco: Gross Domestic Fixed Capital Formation.\n",
    "# gdf: Gross Domestic Factor Cost.\n",
    "# gdfim: Gross Domestic Investment.\n",
    "# gdfcf: Gross Domestic Capital Formation.\n",
    "# gdfce: Gross Domestic Final Consumption Expenditure."
   ]
  },
  {
   "cell_type": "code",
   "execution_count": 4,
   "metadata": {},
   "outputs": [],
   "source": [
    "# Select relevant variables which needs to be focused onn\n",
    "df = data[['rgnp', 'ulc', 'gdf']]\n",
    "df.index = pd.to_datetime(df.index, format='%Y-%m-%d')  "
   ]
  },
  {
   "cell_type": "code",
   "execution_count": 5,
   "metadata": {},
   "outputs": [
    {
     "data": {
      "text/html": [
       "<div>\n",
       "<style scoped>\n",
       "    .dataframe tbody tr th:only-of-type {\n",
       "        vertical-align: middle;\n",
       "    }\n",
       "\n",
       "    .dataframe tbody tr th {\n",
       "        vertical-align: top;\n",
       "    }\n",
       "\n",
       "    .dataframe thead th {\n",
       "        text-align: right;\n",
       "    }\n",
       "</style>\n",
       "<table border=\"1\" class=\"dataframe\">\n",
       "  <thead>\n",
       "    <tr style=\"text-align: right;\">\n",
       "      <th></th>\n",
       "      <th>rgnp</th>\n",
       "      <th>ulc</th>\n",
       "      <th>gdf</th>\n",
       "    </tr>\n",
       "    <tr>\n",
       "      <th>date</th>\n",
       "      <th></th>\n",
       "      <th></th>\n",
       "      <th></th>\n",
       "    </tr>\n",
       "  </thead>\n",
       "  <tbody>\n",
       "    <tr>\n",
       "      <th>1959-01-01</th>\n",
       "      <td>1606.4</td>\n",
       "      <td>47.5</td>\n",
       "      <td>37.4</td>\n",
       "    </tr>\n",
       "    <tr>\n",
       "      <th>1959-04-01</th>\n",
       "      <td>1637.0</td>\n",
       "      <td>47.5</td>\n",
       "      <td>37.5</td>\n",
       "    </tr>\n",
       "    <tr>\n",
       "      <th>1959-07-01</th>\n",
       "      <td>1629.5</td>\n",
       "      <td>48.7</td>\n",
       "      <td>37.6</td>\n",
       "    </tr>\n",
       "    <tr>\n",
       "      <th>1959-10-01</th>\n",
       "      <td>1643.4</td>\n",
       "      <td>48.8</td>\n",
       "      <td>37.8</td>\n",
       "    </tr>\n",
       "    <tr>\n",
       "      <th>1960-01-01</th>\n",
       "      <td>1671.6</td>\n",
       "      <td>49.1</td>\n",
       "      <td>37.8</td>\n",
       "    </tr>\n",
       "  </tbody>\n",
       "</table>\n",
       "</div>"
      ],
      "text/plain": [
       "              rgnp   ulc   gdf\n",
       "date                          \n",
       "1959-01-01  1606.4  47.5  37.4\n",
       "1959-04-01  1637.0  47.5  37.5\n",
       "1959-07-01  1629.5  48.7  37.6\n",
       "1959-10-01  1643.4  48.8  37.8\n",
       "1960-01-01  1671.6  49.1  37.8"
      ]
     },
     "execution_count": 5,
     "metadata": {},
     "output_type": "execute_result"
    }
   ],
   "source": [
    "df.head()"
   ]
  },
  {
   "cell_type": "markdown",
   "metadata": {},
   "source": [
    "# Lets check the statoinary"
   ]
  },
  {
   "cell_type": "code",
   "execution_count": 7,
   "metadata": {},
   "outputs": [],
   "source": [
    "# Check for stationarity\n",
    "def adf_test(series):\n",
    "    result = adfuller(series)\n",
    "    return result[1]  # p-value"
   ]
  },
  {
   "cell_type": "code",
   "execution_count": 10,
   "metadata": {},
   "outputs": [
    {
     "name": "stdout",
     "output_type": "stream",
     "text": [
      "0.9886037114305949 0.997099172882968 0.9953249001658119\n"
     ]
    }
   ],
   "source": [
    "a = adf_test(df['rgnp'])\n",
    "b = adf_test(df['ulc'])\n",
    "c = adf_test(df['gdf'])\n",
    "\n",
    "print(a,b,c)"
   ]
  },
  {
   "cell_type": "markdown",
   "metadata": {},
   "source": [
    "Not stationary since the value is greater then 0.05 "
   ]
  },
  {
   "cell_type": "code",
   "execution_count": 11,
   "metadata": {},
   "outputs": [],
   "source": [
    "# Differencing \n",
    "df_diff = df.diff().dropna()  # First-order differencing"
   ]
  },
  {
   "cell_type": "code",
   "execution_count": 13,
   "metadata": {},
   "outputs": [
    {
     "name": "stdout",
     "output_type": "stream",
     "text": [
      "2.9633019848469267e-06 0.006235131830238172 0.5823703618159312\n"
     ]
    }
   ],
   "source": [
    "x = adf_test(df_diff['rgnp'])\n",
    "y = adf_test(df_diff['ulc'])\n",
    "z = adf_test(df_diff['gdf'])\n",
    "\n",
    "print(x,y,z)"
   ]
  },
  {
   "cell_type": "code",
   "execution_count": 14,
   "metadata": {},
   "outputs": [],
   "source": [
    "# Differencing \n",
    "df_diff2 = df.diff().diff().dropna()  # Second-order differencing"
   ]
  },
  {
   "cell_type": "code",
   "execution_count": 17,
   "metadata": {},
   "outputs": [
    {
     "name": "stdout",
     "output_type": "stream",
     "text": [
      "0.00039702611077688097\n"
     ]
    }
   ],
   "source": [
    "n = adf_test(df_diff2['gdf'])\n",
    "\n",
    "print(n)"
   ]
  },
  {
   "cell_type": "markdown",
   "metadata": {},
   "source": [
    "Series is now stationary \n",
    "\n",
    "Generally model does not require it. It does everything on its own\n",
    "\n",
    "Stationary is just a assumption of VAR model"
   ]
  },
  {
   "cell_type": "markdown",
   "metadata": {},
   "source": [
    "# Modelling"
   ]
  },
  {
   "cell_type": "code",
   "execution_count": 18,
   "metadata": {},
   "outputs": [
    {
     "name": "stderr",
     "output_type": "stream",
     "text": [
      "/Library/Frameworks/Python.framework/Versions/3.12/lib/python3.12/site-packages/statsmodels/tsa/base/tsa_model.py:473: ValueWarning: No frequency information was provided, so inferred frequency QS-OCT will be used.\n",
      "  self._init_dates(dates, freq)\n"
     ]
    }
   ],
   "source": [
    "# Select optimal lag length\n",
    "model = VAR(df)\n",
    "lag_selection = model.select_order(maxlags=10)\n",
    "optimal_lag = lag_selection.aic  # Using AIC-selected lag"
   ]
  },
  {
   "cell_type": "code",
   "execution_count": 19,
   "metadata": {},
   "outputs": [
    {
     "name": "stdout",
     "output_type": "stream",
     "text": [
      " VAR Order Selection (* highlights the minimums)  \n",
      "==================================================\n",
      "       AIC         BIC         FPE         HQIC   \n",
      "--------------------------------------------------\n",
      "0        19.76       19.83   3.819e+08       19.79\n",
      "1        3.105       3.395       22.31       3.223\n",
      "2        2.539      3.046*       12.68      2.745*\n",
      "3        2.505       3.229       12.27       2.799\n",
      "4       2.428*       3.369      11.37*       2.810\n",
      "5        2.433       3.591       11.46       2.903\n",
      "6        2.430       3.805       11.47       2.988\n",
      "7        2.442       4.035       11.67       3.088\n",
      "8        2.505       4.315       12.52       3.239\n",
      "9        2.446       4.474       11.92       3.269\n",
      "10       2.493       4.738       12.64       3.404\n",
      "--------------------------------------------------\n"
     ]
    }
   ],
   "source": [
    "print(lag_selection.summary()) "
   ]
  },
  {
   "cell_type": "code",
   "execution_count": 20,
   "metadata": {},
   "outputs": [
    {
     "name": "stdout",
     "output_type": "stream",
     "text": [
      "4\n"
     ]
    }
   ],
   "source": [
    "print(optimal_lag)"
   ]
  },
  {
   "cell_type": "code",
   "execution_count": 21,
   "metadata": {},
   "outputs": [
    {
     "name": "stdout",
     "output_type": "stream",
     "text": [
      "  Summary of Regression Results   \n",
      "==================================\n",
      "Model:                         VAR\n",
      "Method:                        OLS\n",
      "Date:           Tue, 25, Mar, 2025\n",
      "Time:                     12:21:54\n",
      "--------------------------------------------------------------------\n",
      "No. of Equations:         3.00000    BIC:                    3.20391\n",
      "Nobs:                     119.000    HQIC:                   2.66295\n",
      "Log likelihood:          -604.001    FPE:                    9.93169\n",
      "AIC:                      2.29310    Det(Omega_mle):         7.27683\n",
      "--------------------------------------------------------------------\n",
      "Results for equation rgnp\n",
      "==========================================================================\n",
      "             coefficient       std. error           t-stat            prob\n",
      "--------------------------------------------------------------------------\n",
      "const          -1.971501        18.061171           -0.109           0.913\n",
      "L1.rgnp         1.058446         0.120276            8.800           0.000\n",
      "L1.ulc         -2.737284         3.999672           -0.684           0.494\n",
      "L1.gdf          0.107326        13.294896            0.008           0.994\n",
      "L2.rgnp        -0.000219         0.174126           -0.001           0.999\n",
      "L2.ulc          0.718992         5.712742            0.126           0.900\n",
      "L2.gdf        -12.184398        22.614257           -0.539           0.590\n",
      "L3.rgnp        -0.295100         0.177264           -1.665           0.096\n",
      "L3.ulc         -8.560203         5.735291           -1.493           0.136\n",
      "L3.gdf         10.481342        22.595492            0.464           0.643\n",
      "L4.rgnp         0.266299         0.121564            2.191           0.028\n",
      "L4.ulc         12.607629         3.970627            3.175           0.001\n",
      "L4.gdf         -1.709972        12.679573           -0.135           0.893\n",
      "==========================================================================\n",
      "\n",
      "Results for equation ulc\n",
      "==========================================================================\n",
      "             coefficient       std. error           t-stat            prob\n",
      "--------------------------------------------------------------------------\n",
      "const          -0.788328         0.563026           -1.400           0.161\n",
      "L1.rgnp         0.003000         0.003749            0.800           0.424\n",
      "L1.ulc          1.141832         0.124683            9.158           0.000\n",
      "L1.gdf          0.752203         0.414445            1.815           0.070\n",
      "L2.rgnp         0.004059         0.005428            0.748           0.455\n",
      "L2.ulc         -0.038041         0.178085           -0.214           0.831\n",
      "L2.gdf         -0.889729         0.704960           -1.262           0.207\n",
      "L3.rgnp         0.003687         0.005526            0.667           0.505\n",
      "L3.ulc          0.107206         0.178788            0.600           0.549\n",
      "L3.gdf          0.897909         0.704375            1.275           0.202\n",
      "L4.rgnp        -0.010306         0.003790           -2.719           0.007\n",
      "L4.ulc         -0.246134         0.123777           -1.989           0.047\n",
      "L4.gdf         -0.728463         0.395264           -1.843           0.065\n",
      "==========================================================================\n",
      "\n",
      "Results for equation gdf\n",
      "==========================================================================\n",
      "             coefficient       std. error           t-stat            prob\n",
      "--------------------------------------------------------------------------\n",
      "const          -0.283801         0.143938           -1.972           0.049\n",
      "L1.rgnp         0.001916         0.000959            1.999           0.046\n",
      "L1.ulc          0.058236         0.031875            1.827           0.068\n",
      "L1.gdf          1.430077         0.105954           13.497           0.000\n",
      "L2.rgnp        -0.002247         0.001388           -1.619           0.105\n",
      "L2.ulc         -0.071550         0.045528           -1.572           0.116\n",
      "L2.gdf         -0.379681         0.180224           -2.107           0.035\n",
      "L3.rgnp         0.002205         0.001413            1.561           0.119\n",
      "L3.ulc          0.077230         0.045707            1.690           0.091\n",
      "L3.gdf          0.099690         0.180075            0.554           0.580\n",
      "L4.rgnp        -0.001575         0.000969           -1.626           0.104\n",
      "L4.ulc         -0.050543         0.031644           -1.597           0.110\n",
      "L4.gdf         -0.175644         0.101050           -1.738           0.082\n",
      "==========================================================================\n",
      "\n",
      "Correlation matrix of residuals\n",
      "            rgnp       ulc       gdf\n",
      "rgnp    1.000000 -0.572469  0.126761\n",
      "ulc    -0.572469  1.000000  0.245211\n",
      "gdf     0.126761  0.245211  1.000000\n",
      "\n",
      "\n",
      "\n"
     ]
    },
    {
     "name": "stderr",
     "output_type": "stream",
     "text": [
      "/Library/Frameworks/Python.framework/Versions/3.12/lib/python3.12/site-packages/statsmodels/tsa/base/tsa_model.py:473: ValueWarning: No frequency information was provided, so inferred frequency QS-OCT will be used.\n",
      "  self._init_dates(dates, freq)\n"
     ]
    }
   ],
   "source": [
    "# Fit VAR model\n",
    "var_model = VAR(df)\n",
    "results = var_model.fit(optimal_lag)\n",
    "print(results.summary())"
   ]
  },
  {
   "cell_type": "markdown",
   "metadata": {},
   "source": [
    "### After fitting, ensure that the residuals (errors) are uncorrelated and normally distributed"
   ]
  },
  {
   "cell_type": "code",
   "execution_count": 24,
   "metadata": {},
   "outputs": [
    {
     "name": "stdout",
     "output_type": "stream",
     "text": [
      "\n",
      "Ljung-Box Test for rgnp:\n",
      "     lb_stat  lb_pvalue\n",
      "10  5.702994   0.839569\n",
      "\n",
      "Ljung-Box Test for ulc:\n",
      "     lb_stat  lb_pvalue\n",
      "10  7.372204   0.689901\n",
      "\n",
      "Ljung-Box Test for gdf:\n",
      "     lb_stat  lb_pvalue\n",
      "10  6.747543   0.749044\n"
     ]
    }
   ],
   "source": [
    "# Check for autocorrelation in residuals (Ljung-Box test)\n",
    "# Null = residuals are normal which is what we want \n",
    "for col in results.resid.columns:\n",
    "    print(f\"\\nLjung-Box Test for {col}:\")\n",
    "    lb_test = acorr_ljungbox(results.resid[col], lags=[10], return_df=True)\n",
    "    print(lb_test)\n"
   ]
  },
  {
   "cell_type": "markdown",
   "metadata": {},
   "source": [
    "# f p-value > 0.05, residuals are white noise (good model fit)"
   ]
  },
  {
   "cell_type": "code",
   "execution_count": 25,
   "metadata": {},
   "outputs": [
    {
     "name": "stdout",
     "output_type": "stream",
     "text": [
      "          rgnp         ulc         gdf\n",
      "0  4166.959372  189.313153  131.370846\n",
      "1  4190.868576  191.242227  132.568128\n",
      "2  4216.788958  192.456089  133.682473\n",
      "3  4245.458366  193.698987  134.751848\n",
      "4  4271.984938  195.080479  135.852568\n"
     ]
    }
   ],
   "source": [
    "# Forecast next 5 periods\n",
    "forecast_steps = 5\n",
    "forecast_values = results.forecast(df.values[-optimal_lag:], steps=forecast_steps)\n",
    "\n",
    "# Convert to DataFrame\n",
    "forecast_df = pd.DataFrame(forecast_values, columns=df.columns)\n",
    "print(forecast_df)"
   ]
  },
  {
   "cell_type": "code",
   "execution_count": 26,
   "metadata": {},
   "outputs": [
    {
     "name": "stderr",
     "output_type": "stream",
     "text": [
      "/var/folders/8h/xtp_v7md6bs9195xxzbbf5d80000gn/T/ipykernel_2613/2310576326.py:4: FutureWarning: 'Y' is deprecated and will be removed in a future version, please use 'YE' instead.\n",
      "  plt.plot(pd.date_range(df.index[-1], periods=forecast_steps, freq='Y'), forecast_df[col], linestyle='dashed', label=f'Forecast {col}')\n"
     ]
    },
    {
     "data": {
      "image/png": "[encoded data removed]",
      "text/plain": [
       "<Figure size 1000x500 with 1 Axes>"
      ]
     },
     "metadata": {},
     "output_type": "display_data"
    }
   ],
   "source": [
    "plt.figure(figsize=(10, 5))\n",
    "for col in df.columns:\n",
    "    plt.plot(df.index[-50:], df[col].iloc[-50:], label=f'Actual {col}')\n",
    "    plt.plot(pd.date_range(df.index[-1], periods=forecast_steps, freq='Y'), forecast_df[col], linestyle='dashed', label=f'Forecast {col}')\n",
    "plt.legend()\n",
    "plt.show()"
   ]
  },
  {
   "cell_type": "code",
   "execution_count": null,
   "metadata": {},
   "outputs": [],
   "source": []
  }
 ],
 "metadata": {
  "kernelspec": {
   "display_name": "Python 3",
   "language": "python",
   "name": "python3"
  },
  "language_info": {
   "codemirror_mode": {
    "name": "ipython",
    "version": 3
   },
   "file_extension": ".py",
   "mimetype": "text/x-python",
   "name": "python",
   "nbconvert_exporter": "python",
   "pygments_lexer": "ipython3",
   "version": "3.12.3"
  }
 },
 "nbformat": 4,
 "nbformat_minor": 2
}
