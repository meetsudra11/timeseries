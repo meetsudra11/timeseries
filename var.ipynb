{
 "cells": [
  {
   "cell_type": "markdown",
   "metadata": {},
   "source": [
    "### We need a multivariate time series dataset. Here the data is of ice cream and heater as two variables with time "
   ]
  },
  {
   "cell_type": "code",
   "execution_count": 26,
   "metadata": {},
   "outputs": [],
   "source": [
    "import pandas as pd\n",
    "import numpy as np\n",
    "import matplotlib.pyplot as plt\n",
    "\n",
    "from statsmodels.tsa.stattools import adfuller\n",
    "from statsmodels.tsa.api import VAR\n",
    "from statsmodels.stats.diagnostic import acorr_ljungbox\n"
   ]
  },
  {
   "cell_type": "code",
   "execution_count": 6,
   "metadata": {},
   "outputs": [],
   "source": [
    "# Load dataset (example: macroeconomic data)\n",
    "df = pd.read_csv('datasets/ice_cream_vs_heater.xls')"
   ]
  },
  {
   "cell_type": "code",
   "execution_count": 7,
   "metadata": {},
   "outputs": [
    {
     "data": {
      "text/html": [
       "<div>\n",
       "<style scoped>\n",
       "    .dataframe tbody tr th:only-of-type {\n",
       "        vertical-align: middle;\n",
       "    }\n",
       "\n",
       "    .dataframe tbody tr th {\n",
       "        vertical-align: top;\n",
       "    }\n",
       "\n",
       "    .dataframe thead th {\n",
       "        text-align: right;\n",
       "    }\n",
       "</style>\n",
       "<table border=\"1\" class=\"dataframe\">\n",
       "  <thead>\n",
       "    <tr style=\"text-align: right;\">\n",
       "      <th></th>\n",
       "      <th>Month</th>\n",
       "      <th>heater</th>\n",
       "      <th>ice cream</th>\n",
       "    </tr>\n",
       "  </thead>\n",
       "  <tbody>\n",
       "    <tr>\n",
       "      <th>0</th>\n",
       "      <td>2004-01</td>\n",
       "      <td>27</td>\n",
       "      <td>13</td>\n",
       "    </tr>\n",
       "    <tr>\n",
       "      <th>1</th>\n",
       "      <td>2004-02</td>\n",
       "      <td>18</td>\n",
       "      <td>15</td>\n",
       "    </tr>\n",
       "    <tr>\n",
       "      <th>2</th>\n",
       "      <td>2004-03</td>\n",
       "      <td>14</td>\n",
       "      <td>16</td>\n",
       "    </tr>\n",
       "    <tr>\n",
       "      <th>3</th>\n",
       "      <td>2004-04</td>\n",
       "      <td>13</td>\n",
       "      <td>19</td>\n",
       "    </tr>\n",
       "    <tr>\n",
       "      <th>4</th>\n",
       "      <td>2004-05</td>\n",
       "      <td>13</td>\n",
       "      <td>21</td>\n",
       "    </tr>\n",
       "  </tbody>\n",
       "</table>\n",
       "</div>"
      ],
      "text/plain": [
       "     Month  heater  ice cream\n",
       "0  2004-01      27         13\n",
       "1  2004-02      18         15\n",
       "2  2004-03      14         16\n",
       "3  2004-04      13         19\n",
       "4  2004-05      13         21"
      ]
     },
     "execution_count": 7,
     "metadata": {},
     "output_type": "execute_result"
    }
   ],
   "source": [
    "df.head()"
   ]
  },
  {
   "cell_type": "code",
   "execution_count": 13,
   "metadata": {},
   "outputs": [],
   "source": [
    "# Convert column year in datetime format\n",
    "df['Month'] = pd.to_datetime(df['Month'])\n",
    "df = df.set_index('Month')"
   ]
  },
  {
   "cell_type": "markdown",
   "metadata": {},
   "source": [
    "### VAR models require stationary data, so we check for stationarity using the Augmented Dickey-Fuller (ADF) test."
   ]
  },
  {
   "cell_type": "code",
   "execution_count": 14,
   "metadata": {},
   "outputs": [],
   "source": [
    "# Check for stationarity Will use function everytime thus function is defined\n",
    "def adf_test(series):\n",
    "    result = adfuller(series)\n",
    "    return result[1]  # p-value"
   ]
  },
  {
   "cell_type": "markdown",
   "metadata": {},
   "source": [
    "Checking stationary for both the columns"
   ]
  },
  {
   "cell_type": "code",
   "execution_count": 15,
   "metadata": {},
   "outputs": [
    {
     "data": {
      "text/plain": [
       "0.9937106551805235"
      ]
     },
     "execution_count": 15,
     "metadata": {},
     "output_type": "execute_result"
    }
   ],
   "source": [
    "adf_test(df['heater'])  # Not stationary"
   ]
  },
  {
   "cell_type": "code",
   "execution_count": 16,
   "metadata": {},
   "outputs": [
    {
     "data": {
      "text/plain": [
       "0.9249454712517605"
      ]
     },
     "execution_count": 16,
     "metadata": {},
     "output_type": "execute_result"
    }
   ],
   "source": [
    "adf_test(df['ice cream']) # Not stationary"
   ]
  },
  {
   "cell_type": "markdown",
   "metadata": {},
   "source": [
    "### Differencing for making it stationary"
   ]
  },
  {
   "cell_type": "code",
   "execution_count": 17,
   "metadata": {},
   "outputs": [],
   "source": [
    "df_diff = df.diff().dropna()  # First-order differencing"
   ]
  },
  {
   "cell_type": "code",
   "execution_count": 21,
   "metadata": {},
   "outputs": [
    {
     "data": {
      "text/plain": [
       "9.213801624031098e-30"
      ]
     },
     "execution_count": 21,
     "metadata": {},
     "output_type": "execute_result"
    }
   ],
   "source": [
    "adf_test(df_diff['heater']) # Now Stationary"
   ]
  },
  {
   "cell_type": "code",
   "execution_count": 20,
   "metadata": {},
   "outputs": [
    {
     "data": {
      "text/plain": [
       "5.893887017364702e-05"
      ]
     },
     "execution_count": 20,
     "metadata": {},
     "output_type": "execute_result"
    }
   ],
   "source": [
    "adf_test(df_diff['ice cream']) # Now stationary"
   ]
  },
  {
   "cell_type": "markdown",
   "metadata": {},
   "source": [
    "# Model Building"
   ]
  },
  {
   "cell_type": "markdown",
   "metadata": {},
   "source": [
    "#### There is only one parameter in VAR model,  Why is it so ? Since it uses Auto regressive (AR) which has only p"
   ]
  },
  {
   "cell_type": "code",
   "execution_count": 22,
   "metadata": {},
   "outputs": [
    {
     "name": "stderr",
     "output_type": "stream",
     "text": [
      "/Library/Frameworks/Python.framework/Versions/3.12/lib/python3.12/site-packages/statsmodels/tsa/base/tsa_model.py:473: ValueWarning: No frequency information was provided, so inferred frequency MS will be used.\n",
      "  self._init_dates(dates, freq)\n"
     ]
    }
   ],
   "source": [
    "# Select optimal lag length\n",
    "model = VAR(df)\n",
    "lag_selection = model.select_order(maxlags=20)\n",
    "optimal_lag = lag_selection.aic  # Using AIC-selected lag"
   ]
  },
  {
   "cell_type": "markdown",
   "metadata": {},
   "source": [
    "1. How will we decide the value of p in VAR models?\n",
    "2. Also it does everything. Kitne plots banayega for every variable? is it ? No, VAR does it automatically "
   ]
  },
  {
   "cell_type": "code",
   "execution_count": 23,
   "metadata": {},
   "outputs": [
    {
     "name": "stdout",
     "output_type": "stream",
     "text": [
      " VAR Order Selection (* highlights the minimums)  \n",
      "==================================================\n",
      "       AIC         BIC         FPE         HQIC   \n",
      "--------------------------------------------------\n",
      "0        10.30       10.34   2.981e+04       10.32\n",
      "1        7.602       7.709       2002.       7.645\n",
      "2        7.022       7.201       1121.       7.095\n",
      "3        6.588       6.839       726.7       6.690\n",
      "4        6.228       6.549       506.7       6.358\n",
      "5        6.021       6.414       412.1       6.180\n",
      "6        5.794      6.259*       328.5       5.982\n",
      "7        5.771       6.307       321.0       5.988\n",
      "8        5.804       6.411       331.9       6.050\n",
      "9        5.693       6.372       297.3       5.969\n",
      "10       5.630       6.381       279.3       5.935\n",
      "11       5.599       6.421       271.0       5.933\n",
      "12       5.464       6.358       236.9       5.826\n",
      "13      5.422*       6.387      227.4*      5.814*\n",
      "14       5.447       6.484       233.5       5.868\n",
      "15       5.468       6.577       238.8       5.918\n",
      "16       5.494       6.674       245.4       5.973\n",
      "17       5.532       6.783       255.3       6.040\n",
      "18       5.460       6.783       238.1       5.997\n",
      "19       5.485       6.879       244.5       6.050\n",
      "20       5.513       6.978       252.0       6.107\n",
      "--------------------------------------------------\n"
     ]
    }
   ],
   "source": [
    "print(lag_selection.summary()) "
   ]
  },
  {
   "cell_type": "code",
   "execution_count": 24,
   "metadata": {},
   "outputs": [
    {
     "name": "stdout",
     "output_type": "stream",
     "text": [
      "13\n"
     ]
    }
   ],
   "source": [
    "print(optimal_lag)"
   ]
  },
  {
   "cell_type": "code",
   "execution_count": 25,
   "metadata": {},
   "outputs": [
    {
     "name": "stdout",
     "output_type": "stream",
     "text": [
      "  Summary of Regression Results   \n",
      "==================================\n",
      "Model:                         VAR\n",
      "Method:                        OLS\n",
      "Date:           Tue, 25, Mar, 2025\n",
      "Time:                     11:43:15\n",
      "--------------------------------------------------------------------\n",
      "No. of Equations:         2.00000    BIC:                    6.27742\n",
      "Nobs:                     185.000    HQIC:                   5.71838\n",
      "Log likelihood:          -964.719    FPE:                    208.850\n",
      "AIC:                      5.33742    Det(Omega_mle):         159.040\n",
      "--------------------------------------------------------------------\n",
      "Results for equation heater\n",
      "================================================================================\n",
      "                   coefficient       std. error           t-stat            prob\n",
      "--------------------------------------------------------------------------------\n",
      "const                 2.319106         1.515153            1.531           0.126\n",
      "L1.heater             0.328029         0.079523            4.125           0.000\n",
      "L1.ice cream         -0.017671         0.047492           -0.372           0.710\n",
      "L2.heater            -0.028586         0.078775           -0.363           0.717\n",
      "L2.ice cream         -0.111010         0.052403           -2.118           0.034\n",
      "L3.heater             0.066880         0.078774            0.849           0.396\n",
      "L3.ice cream          0.055256         0.052961            1.043           0.297\n",
      "L4.heater            -0.097828         0.078506           -1.246           0.213\n",
      "L4.ice cream          0.087893         0.053092            1.655           0.098\n",
      "L5.heater            -0.005678         0.078927           -0.072           0.943\n",
      "L5.ice cream          0.003311         0.053090            0.062           0.950\n",
      "L6.heater             0.073913         0.079933            0.925           0.355\n",
      "L6.ice cream          0.068031         0.052558            1.294           0.196\n",
      "L7.heater            -0.022245         0.082914           -0.268           0.788\n",
      "L7.ice cream         -0.072838         0.052800           -1.379           0.168\n",
      "L8.heater            -0.135703         0.082990           -1.635           0.102\n",
      "L8.ice cream          0.026046         0.052758            0.494           0.622\n",
      "L9.heater            -0.093476         0.082696           -1.130           0.258\n",
      "L9.ice cream         -0.031918         0.053127           -0.601           0.548\n",
      "L10.heater            0.120887         0.082649            1.463           0.144\n",
      "L10.ice cream         0.010252         0.053478            0.192           0.848\n",
      "L11.heater            0.164389         0.083325            1.973           0.049\n",
      "L11.ice cream        -0.050958         0.053020           -0.961           0.336\n",
      "L12.heater            0.384992         0.082639            4.659           0.000\n",
      "L12.ice cream         0.017056         0.058408            0.292           0.770\n",
      "L13.heater            0.009021         0.082714            0.109           0.913\n",
      "L13.ice cream         0.131875         0.053590            2.461           0.014\n",
      "================================================================================\n",
      "\n",
      "Results for equation ice cream\n",
      "================================================================================\n",
      "                   coefficient       std. error           t-stat            prob\n",
      "--------------------------------------------------------------------------------\n",
      "const                -1.445683         2.550717           -0.567           0.571\n",
      "L1.heater            -0.060857         0.133875           -0.455           0.649\n",
      "L1.ice cream          0.529485         0.079952            6.623           0.000\n",
      "L2.heater             0.098518         0.132616            0.743           0.458\n",
      "L2.ice cream         -0.007776         0.088219           -0.088           0.930\n",
      "L3.heater            -0.105982         0.132614           -0.799           0.424\n",
      "L3.ice cream          0.143851         0.089158            1.613           0.107\n",
      "L4.heater             0.021940         0.132163            0.166           0.868\n",
      "L4.ice cream          0.066217         0.089379            0.741           0.459\n",
      "L5.heater             0.076930         0.132871            0.579           0.563\n",
      "L5.ice cream          0.006457         0.089375            0.072           0.942\n",
      "L6.heater             0.456692         0.134565            3.394           0.001\n",
      "L6.ice cream         -0.009571         0.088479           -0.108           0.914\n",
      "L7.heater             0.050901         0.139583            0.365           0.715\n",
      "L7.ice cream          0.096004         0.088888            1.080           0.280\n",
      "L8.heater             0.105047         0.139712            0.752           0.452\n",
      "L8.ice cream          0.027235         0.088817            0.307           0.759\n",
      "L9.heater            -0.297896         0.139216           -2.140           0.032\n",
      "L9.ice cream         -0.014916         0.089438           -0.167           0.868\n",
      "L10.heater           -0.169609         0.139136           -1.219           0.223\n",
      "L10.ice cream        -0.046199         0.090029           -0.513           0.608\n",
      "L11.heater            0.017488         0.140276            0.125           0.901\n",
      "L11.ice cream         0.004681         0.089258            0.052           0.958\n",
      "L12.heater           -0.119009         0.139120           -0.855           0.392\n",
      "L12.ice cream         0.307529         0.098329            3.128           0.002\n",
      "L13.heater            0.139640         0.139246            1.003           0.316\n",
      "L13.ice cream        -0.191214         0.090218           -2.119           0.034\n",
      "================================================================================\n",
      "\n",
      "Correlation matrix of residuals\n",
      "               heater  ice cream\n",
      "heater       1.000000   0.227067\n",
      "ice cream    0.227067   1.000000\n",
      "\n",
      "\n",
      "\n"
     ]
    },
    {
     "name": "stderr",
     "output_type": "stream",
     "text": [
      "/Library/Frameworks/Python.framework/Versions/3.12/lib/python3.12/site-packages/statsmodels/tsa/base/tsa_model.py:473: ValueWarning: No frequency information was provided, so inferred frequency MS will be used.\n",
      "  self._init_dates(dates, freq)\n"
     ]
    }
   ],
   "source": [
    "# Once we find the parameter we fit the model\n",
    "# Fit VAR model\n",
    "var_model = VAR(df)\n",
    "results = var_model.fit(optimal_lag)\n",
    "print(results.summary())"
   ]
  },
  {
   "cell_type": "markdown",
   "metadata": {},
   "source": [
    "### After fitting,we ensure that the residuals (errors) are uncorrelated and normally distributed"
   ]
  },
  {
   "cell_type": "code",
   "execution_count": 28,
   "metadata": {},
   "outputs": [
    {
     "name": "stdout",
     "output_type": "stream",
     "text": [
      "\n",
      "Ljung-Box Test for heater:\n",
      "     lb_stat  lb_pvalue\n",
      "10  2.981241   0.981862\n",
      "\n",
      "Ljung-Box Test for ice cream:\n",
      "     lb_stat  lb_pvalue\n",
      "10  2.152012   0.995037\n"
     ]
    }
   ],
   "source": [
    "# Check for autocorrelation in residuals (Ljung-Box test)\n",
    "# Null = residuals are normal which is what we want \n",
    "\n",
    "for col in results.resid.columns:\n",
    "    print(f\"\\nLjung-Box Test for {col}:\")\n",
    "    lb_test = acorr_ljungbox(results.resid[col], lags=[10], return_df=True)\n",
    "    print(lb_test)"
   ]
  },
  {
   "cell_type": "markdown",
   "metadata": {},
   "source": [
    "### If p-value > 0.05, residuals are white noise (good model fit)."
   ]
  },
  {
   "cell_type": "code",
   "execution_count": 29,
   "metadata": {},
   "outputs": [
    {
     "name": "stdout",
     "output_type": "stream",
     "text": [
      "      heater  ice cream\n",
      "0  21.166264  78.100275\n",
      "1  25.926839  58.037025\n",
      "2  31.618888  45.546684\n",
      "3  44.038844  40.968398\n",
      "4  54.338738  39.310621\n"
     ]
    }
   ],
   "source": [
    "# Forecast next 5 periods\n",
    "forecast_steps = 5\n",
    "forecast_values = results.forecast(df.values[-optimal_lag:], steps=forecast_steps)\n",
    "\n",
    "# Convert to DataFrame\n",
    "forecast_df = pd.DataFrame(forecast_values, columns=df.columns)\n",
    "print(forecast_df)"
   ]
  },
  {
   "cell_type": "code",
   "execution_count": 30,
   "metadata": {},
   "outputs": [
    {
     "name": "stderr",
     "output_type": "stream",
     "text": [
      "/var/folders/8h/xtp_v7md6bs9195xxzbbf5d80000gn/T/ipykernel_2303/2310576326.py:4: FutureWarning: 'Y' is deprecated and will be removed in a future version, please use 'YE' instead.\n",
      "  plt.plot(pd.date_range(df.index[-1], periods=forecast_steps, freq='Y'), forecast_df[col], linestyle='dashed', label=f'Forecast {col}')\n"
     ]
    },
    {
     "data": {
      "image/png": "[encoded data removed]",
      "text/plain": [
       "<Figure size 1000x500 with 1 Axes>"
      ]
     },
     "metadata": {},
     "output_type": "display_data"
    }
   ],
   "source": [
    "plt.figure(figsize=(10, 5))\n",
    "for col in df.columns:\n",
    "    plt.plot(df.index[-50:], df[col].iloc[-50:], label=f'Actual {col}')\n",
    "    plt.plot(pd.date_range(df.index[-1], periods=forecast_steps, freq='Y'), forecast_df[col], linestyle='dashed', label=f'Forecast {col}')\n",
    "plt.legend()\n",
    "plt.show()"
   ]
  },
  {
   "cell_type": "markdown",
   "metadata": {},
   "source": [
    "### Sale of ice cream will decrease and heater will increase"
   ]
  },
  {
   "cell_type": "markdown",
   "metadata": {},
   "source": []
  }
 ],
 "metadata": {
  "kernelspec": {
   "display_name": "Python 3",
   "language": "python",
   "name": "python3"
  },
  "language_info": {
   "codemirror_mode": {
    "name": "ipython",
    "version": 3
   },
   "file_extension": ".py",
   "mimetype": "text/x-python",
   "name": "python",
   "nbconvert_exporter": "python",
   "pygments_lexer": "ipython3",
   "version": "3.12.3"
  }
 },
 "nbformat": 4,
 "nbformat_minor": 2
}
